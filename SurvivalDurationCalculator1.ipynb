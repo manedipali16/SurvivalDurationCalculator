{
  "nbformat": 4,
  "nbformat_minor": 0,
  "metadata": {
    "colab": {
      "provenance": [],
      "authorship_tag": "ABX9TyNldPVojzUauqjg82rDHMqa",
      "include_colab_link": true
    },
    "kernelspec": {
      "name": "python3",
      "display_name": "Python 3"
    },
    "language_info": {
      "name": "python"
    }
  },
  "cells": [
    {
      "cell_type": "markdown",
      "metadata": {
        "id": "view-in-github",
        "colab_type": "text"
      },
      "source": [
        "<a href=\"https://colab.research.google.com/github/manedipali16/SurvivalDurationCalculator/blob/main/SurvivalDurationCalculator1.ipynb\" target=\"_parent\"><img src=\"https://colab.research.google.com/assets/colab-badge.svg\" alt=\"Open In Colab\"/></a>"
      ]
    },
    {
      "cell_type": "code",
      "execution_count": null,
      "metadata": {
        "colab": {
          "base_uri": "https://localhost:8080/"
        },
        "id": "dDbJpB5GxCeC",
        "outputId": "263a955f-cfad-439a-bc26-75039deb2524"
      },
      "outputs": [
        {
          "output_type": "stream",
          "name": "stdout",
          "text": [
            "What's your age? 10\n",
            "Please choose time unit (Months, Weeks, Days, Hours, Minutes, Seconds): M\n",
            "You lived for 120 M.\n"
          ]
        }
      ],
      "source": [
        "class SurvivalDurationCalculator:\n",
        "    def __init__(self, age):\n",
        "        self.age = age\n",
        "\n",
        "    def calculate_duration(self, time_unit):\n",
        "        if time_unit.lower() in ['months', 'm']:\n",
        "            return self.age * 12  # 1 year = 12 months\n",
        "        elif time_unit.lower() in ['weeks', 'w']:\n",
        "            return self.age * 52  # 1 year = 52 weeks (approx)\n",
        "        elif time_unit.lower() in ['days', 'd']:\n",
        "            return self.age * 365  # 1 year = 365 days\n",
        "        elif time_unit.lower() in ['hours', 'h']:\n",
        "            return self.age * 365 * 24  # 1 day = 24 hours\n",
        "        elif time_unit.lower() in ['minutes', 'min']:\n",
        "            return self.age * 365 * 24 * 60  # 1 hour = 60 minutes\n",
        "        elif time_unit.lower() in ['seconds', 's']:\n",
        "            return self.age * 365 * 24 * 60 * 60  # 1 minute = 60 seconds\n",
        "        else:\n",
        "            return \"Invalid time unit.\"\n",
        "\n",
        "def main():\n",
        "    try:\n",
        "        age = int(input(\"What's your age? \"))\n",
        "        if age < 0:\n",
        "            print(\"Age cannot be negative.\")\n",
        "            return\n",
        "\n",
        "        time_unit = input(\"Please choose time unit (Months, Weeks, Days, Hours, Minutes, Seconds): \")\n",
        "\n",
        "        calculator = SurvivalDurationCalculator(age)\n",
        "        result = calculator.calculate_duration(time_unit)\n",
        "\n",
        "        if isinstance(result, str):\n",
        "            print(result)\n",
        "        else:\n",
        "            print(f\"You lived for {result} {time_unit.capitalize()}.\")\n",
        "    except ValueError:\n",
        "        print(\"Please enter a valid number for age.\")\n",
        "\n",
        "if __name__ == \"__main__\":\n",
        "    main()\n"
      ]
    }
  ]
}